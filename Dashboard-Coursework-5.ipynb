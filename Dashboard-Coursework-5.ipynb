{
 "cells": [
  {
   "cell_type": "markdown",
   "metadata": {},
   "source": [
    "[DIY Covid-19 Dashboard Kit](https://github.com/fsmeraldi/diy-covid19dash) (C) Fabrizio Smeraldi, 2020 ([f.smeraldi@qmul.ac.uk](mailto:f.smeraldi@qmul.ac.uk) - [web](http://www.eecs.qmul.ac.uk/~fabri/)). All rights reserved."
   ]
  },
  {
   "cell_type": "markdown",
   "metadata": {},
   "source": [
    "# DIY Covid-19 Dashboard"
   ]
  },
  {
   "cell_type": "markdown",
   "metadata": {},
   "source": [
    "This Dashboard displays the UK Government's Covid-19 total PCR tests carried out in relation to the overall planned PCR testing capacity. "
   ]
  },
  {
   "cell_type": "code",
   "execution_count": 276,
   "metadata": {},
   "outputs": [],
   "source": [
    "from IPython.display import clear_output\n",
    "import ipywidgets as wdg\n",
    "import pandas as pd\n",
    "import numpy as np\n",
    "import matplotlib.pyplot as plt\n",
    "import json\n",
    "from uk_covid19 import Cov19API"
   ]
  },
  {
   "cell_type": "code",
   "execution_count": 277,
   "metadata": {},
   "outputs": [],
   "source": [
    "%matplotlib inline\n",
    "# make figures larger\n",
    "plt.rcParams['figure.dpi'] = 100"
   ]
  },
  {
   "cell_type": "code",
   "execution_count": null,
   "metadata": {},
   "outputs": [],
   "source": []
  },
  {
   "cell_type": "markdown",
   "metadata": {},
   "source": [
    "The data is resourced from the UK Government's Public Health England website https://coronavirus.data.gov.uk. "
   ]
  },
  {
   "cell_type": "code",
   "execution_count": 278,
   "metadata": {},
   "outputs": [],
   "source": [
    "# Load JSON files and store the raw data in some variable. Edit as appropriate \n",
    "\n",
    "with open(\"testcomparison.json\", \"rt\") as INFILE:\n",
    "    info = json.load(INFILE)"
   ]
  },
  {
   "cell_type": "raw",
   "metadata": {},
   "source": []
  },
  {
   "cell_type": "code",
   "execution_count": 279,
   "metadata": {},
   "outputs": [],
   "source": [
    "def parse_date(datestring):\n",
    "    \"\"\" Convert a date string into a pandas datetime object \"\"\"\n",
    "    return pd.to_datetime(datestring, format=\"%Y-%m-%d\")\n",
    "\n",
    "def wrangle_data(info):\n",
    "    \"\"\" Parameters: rawdata - data from json file or API call. Returns a dataframe.\n",
    "    Edit to include the code that wrangles the data, creates the dataframe and fills it in. \"\"\"\n",
    "    thelist=info['data']\n",
    "    date=[dictionary['dates'] for dictionary in thelist ]\n",
    "    date.sort()\n",
    "    \n",
    "    startdate=parse_date(date[0])\n",
    "    enddate=parse_date(date[-1])\n",
    "    index=pd.date_range(startdate, enddate, freq='D')\n",
    "    df=pd.DataFrame(index=index, columns=['PCRtestCapacity', 'PCRtotaltests'])\n",
    "    for entry in thelist:\n",
    "        dates=parse_date(entry['dates'])\n",
    "        for column in ['PCRtestCapacity', 'PCRtotaltests']:\n",
    "            if pd.isna(df.loc[dates,column]):\n",
    "                value=float(entry[column]) if entry[column]!=None else 0.0\n",
    "                df.loc[dates, column]=value\n",
    "    df.fillna(0.0, inplace=True)\n",
    "    return df\n",
    "\n",
    "\n",
    "# putting the wrangling code into a function allows you to call it again after refreshing the data through \n",
    "# the API. You should call the function directly on the JSON data when the dashboard starts, by including \n",
    "# the call in the cell as below:\n",
    "df=wrangle_data(info) # df is the dataframe for plotting\n"
   ]
  },
  {
   "cell_type": "markdown",
   "metadata": {},
   "source": [
    "## Download current data"
   ]
  },
  {
   "cell_type": "markdown",
   "metadata": {},
   "source": [
    "Refresh below to access current data"
   ]
  },
  {
   "cell_type": "code",
   "execution_count": 280,
   "metadata": {},
   "outputs": [],
   "source": [
    " \n",
    "def access_api(testcomparison):\n",
    "    \"\"\" Accesses the PHE API. Returns raw data in the same format as data loaded from the \"canned\" JSON file. \"\"\"\n",
    "    \n",
    "    return info # return data read from the API\n"
   ]
  },
  {
   "cell_type": "code",
   "execution_count": 281,
   "metadata": {},
   "outputs": [
    {
     "data": {
      "application/vnd.jupyter.widget-view+json": {
       "model_id": "ce2947ce326e44abbb65c11cb68eeb1c",
       "version_major": 2,
       "version_minor": 0
      },
      "text/plain": [
       "Button(button_style='info', description='REFRESH', icon='download', style=ButtonStyle(), tooltip='Click to ref…"
      ]
     },
     "metadata": {},
     "output_type": "display_data"
    }
   ],
   "source": [
    "\n",
    "def api_button_callback(button):\n",
    "    \"\"\" Button callback - it must take the button as its parameter (unused in this case).\n",
    "    Accesses API, wrangles data, updates global variable df used for plotting. \"\"\"\n",
    "    \n",
    "    apidata=access_api(info)\n",
    "    # wrangle the data and overwrite the dataframe for plotting\n",
    "    global df\n",
    "    df=wrangle_data(apidata)\n",
    "    # the graph won't refresh until the user interacts with the widget.\n",
    "    # this function simulates the interaction, see Graph and Analysis below.\n",
    "    # you can omit this step in the first instance\n",
    "    \n",
    "    refresh_graph()\n",
    "    # after all is done, you can switch the icon on the button to a \"check\" sign\n",
    "    # and optionally disable the button - it won't be needed again. You can use icons\n",
    "    # \"unlink\" or \"times\" and change the button text to \"Unavailable\" in case the \n",
    "    # api call fails.\n",
    "    apibutton.icon=\"check\"\n",
    "    #apibutton.disabled=True\n",
    "    \n",
    "apibutton=wdg.Button(\n",
    "    description='REFRESH', # you may want to change this...\n",
    "    disabled=False,\n",
    "    button_style='INFO', # 'success', 'info', 'warning', 'danger' or ''\n",
    "    tooltip=\"Click to refresh\",\n",
    "    # FontAwesome names without the `fa-` prefix - try \"download\"\n",
    "    icon='download'\n",
    ")\n",
    "\n",
    "\n",
    "\n",
    "apibutton.on_click(api_button_callback) # the name of your function inside these brackets\n",
    "\n",
    "display(apibutton)\n",
    "\n",
    "\n",
    "\n",
    "# run all cells before clicking on this button"
   ]
  },
  {
   "cell_type": "markdown",
   "metadata": {},
   "source": [
    "## Graphs and Analysis\n",
    "\n",
    "Please find below, the Graph showing the comparison between the PCR Testing Capacity and the total PCR tests done."
   ]
  },
  {
   "cell_type": "raw",
   "metadata": {},
   "source": []
  },
  {
   "cell_type": "code",
   "execution_count": 282,
   "metadata": {},
   "outputs": [
    {
     "data": {
      "application/vnd.jupyter.widget-view+json": {
       "model_id": "777c02f30d8f4f529a57594344b99dff",
       "version_major": 2,
       "version_minor": 0
      },
      "text/plain": [
       "HBox(children=(SelectMultiple(description='Statistics:', index=(0, 1), options=('PCRtestCapacity', 'PCRtotalte…"
      ]
     },
     "metadata": {},
     "output_type": "display_data"
    },
    {
     "data": {
      "application/vnd.jupyter.widget-view+json": {
       "model_id": "aa5d659126a74f7787bff152972b66e7",
       "version_major": 2,
       "version_minor": 0
      },
      "text/plain": [
       "Output()"
      ]
     },
     "metadata": {},
     "output_type": "display_data"
    }
   ],
   "source": [
    "#Graph Controls\n",
    "comparison=wdg.SelectMultiple(\n",
    "    options=['PCRtestCapacity', 'PCRtotaltests'],\n",
    "    value=['PCRtestCapacity', 'PCRtotaltests'],\n",
    "    rows=2,\n",
    "    description='Statistics:',\n",
    "    disabled=False\n",
    "    )\n",
    "#dropdown interactive widgets    \n",
    "scale=wdg.Dropdown(\n",
    "    options=['linear', 'log'],\n",
    "    description='Scale:',\n",
    "    disabled=False\n",
    "    )\n",
    "\n",
    "controls=wdg.HBox([comparison, scale]) #displayed horizontally\n",
    "\n",
    "def testcomparison_graph(gcols, gscale):\n",
    "    plt.show() # important! update won't work properly without this\n",
    "    if gscale=='linear':\n",
    "        logscale=False\n",
    "    else:\n",
    "        logscale=True\n",
    "    ncols=len(gcols)\n",
    "    if ncols>0:\n",
    "        df[list(gcols)].plot(logy=logscale)\n",
    "        plt.show() # important - graphs won't update if this is missing \n",
    "    else:\n",
    "        print(\"Click to select data for graph\")\n",
    "        print(\"(CTRL-Click to select more than one category)\")\n",
    "        \n",
    "def refresh_graph():\n",
    "    \"\"\" We change the value of the widget in order to force a redraw of the graph;\n",
    "    this is useful when the data have been updated. This is a bit of a gimmick; it\n",
    "    needs to be customised for one of your widgets. \"\"\"\n",
    "    current=scale.options\n",
    "    if current==scale.options[0]:\n",
    "        other=scale.options[1] \n",
    "    else:\n",
    "        other=scale.options[0]\n",
    "    scale.options=other # forces the redraw\n",
    "    scale.options=current\n",
    "    \n",
    "\n",
    "graph=wdg.interactive_output(testcomparison_graph, {'gcols': comparison, 'gscale': scale})\n",
    "\n",
    "display(controls, graph)\n",
    "\n",
    "\n",
    "\n",
    "\n",
    "\n",
    "\n"
   ]
  },
  {
   "cell_type": "raw",
   "metadata": {},
   "source": []
  },
  {
   "cell_type": "markdown",
   "metadata": {},
   "source": [
    "**Author and Copyright Notice** Remember if you deploy this dashboard as a Binder it will be publicly accessible. Take credit for your work! Also acknowledge the data source: *Based on UK Government [data](https://coronavirus.data.gov.uk/) published by [Public Health England](https://www.gov.uk/government/organisations/public-health-england).*"
   ]
  }
 ],
 "metadata": {
  "kernelspec": {
   "display_name": "Python 3 (ipykernel)",
   "language": "python",
   "name": "python3"
  },
  "language_info": {
   "codemirror_mode": {
    "name": "ipython",
    "version": 3
   },
   "file_extension": ".py",
   "mimetype": "text/x-python",
   "name": "python",
   "nbconvert_exporter": "python",
   "pygments_lexer": "ipython3",
   "version": "3.9.6"
  }
 },
 "nbformat": 4,
 "nbformat_minor": 4
}
